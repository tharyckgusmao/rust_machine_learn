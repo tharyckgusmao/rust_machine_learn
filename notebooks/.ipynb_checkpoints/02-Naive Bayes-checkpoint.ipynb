{
 "cells": [
  {
   "cell_type": "code",
   "execution_count": 45,
   "id": "2dab70d1-a43f-44e1-b310-feb01e5332b8",
   "metadata": {},
   "outputs": [
    {
     "data": {
      "text/plain": [
       "sccache: true. Warning: dynamic linking disabled, use :cache instead to preserve dynamic linking\n"
      ]
     },
     "execution_count": 45,
     "metadata": {},
     "output_type": "execute_result"
    }
   ],
   "source": [
    ":dep darn\n",
    ":dep ndarray\n",
    ":dep ndarray-csv\n",
    ":dep polars = { version = \"x\", features = [\"csv\",\"describe\",\"fmt\",\"lazy\",\"ndarray\",\"dtype-categorical\",\"to_dummies\"]}\n",
    ":dep plotters = {version = \"0.3.5\", features = [\"evcxr\", \"line_series\"]}\n",
    ":dep linfa\n",
    ":dep linfa-bayes\n",
    ":dep linfa-preprocessing\n",
    ":sccache 1\n",
    "    \n",
    "extern crate csv;\n",
    "\n",
    "use std::io::prelude::*;\n",
    "use std::fs::*;\n",
    "use std::path::Path\n",
    "use ndarray::prelude::*;\n",
    "use ndarray_csv::Array2Reader;\n",
    "use ndarray::*;\n",
    "\n",
    "use polars::prelude::*;\n",
    "use std::fs::File;\n",
    "\n",
    "use linfa::*;\n",
    "use linfa::prelude::*;\n",
    "\n",
    "use linfa::traits::Transformer;\n",
    "use linfa_preprocessing::norm_scaling::NormScaler;\n",
    "use linfa_preprocessing::linear_scaling::LinearScaler;\n",
    "use linfa_bayes::{GaussianNbParams, GaussianNbValidParams, Result};\n",
    "\n",
    "extern crate plotters;\n",
    "use plotters::prelude::*;\n",
    "use plotters::series::*;\n"
   ]
  },
  {
   "cell_type": "code",
   "execution_count": 70,
   "id": "f509a414-605b-468a-9565-ac4c18674b56",
   "metadata": {},
   "outputs": [
    {
     "name": "stdout",
     "output_type": "stream",
     "text": [
      "DataFrame Ok(shape: (14, 4)\n",
      "┌──────────┬────────┬───────────┬───────┐\n",
      "│ historia ┆ divida ┆ garantias ┆ renda │\n",
      "│ ---      ┆ ---    ┆ ---       ┆ ---   │\n",
      "│ u32      ┆ u32    ┆ u32       ┆ u32   │\n",
      "╞══════════╪════════╪═══════════╪═══════╡\n",
      "│ 0        ┆ 0      ┆ 0         ┆ 0     │\n",
      "│ 1        ┆ 0      ┆ 0         ┆ 1     │\n",
      "│ 1        ┆ 1      ┆ 0         ┆ 1     │\n",
      "│ 1        ┆ 1      ┆ 0         ┆ 2     │\n",
      "│ 1        ┆ 1      ┆ 0         ┆ 2     │\n",
      "│ …        ┆ …      ┆ …         ┆ …     │\n",
      "│ 2        ┆ 0      ┆ 1         ┆ 2     │\n",
      "│ 2        ┆ 0      ┆ 0         ┆ 0     │\n",
      "│ 2        ┆ 0      ┆ 0         ┆ 1     │\n",
      "│ 2        ┆ 0      ┆ 0         ┆ 2     │\n",
      "│ 0        ┆ 0      ┆ 0         ┆ 1     │\n",
      "└──────────┴────────┴───────────┴───────┘)\n",
      "[\"baixo\", \"alto\"], shape=[2], strides=[1], layout=CFcf (0xf), const ndim=1\n"
     ]
    },
    {
     "data": {
      "text/plain": [
       "()"
      ]
     },
     "execution_count": 70,
     "metadata": {},
     "output_type": "execute_result"
    }
   ],
   "source": [
    "// import database\n",
    "let df = CsvReader::from_path(\"./db/risco_credit.csv\").unwrap()\n",
    "    .has_header(true)\n",
    "    .finish().unwrap();\n",
    "\n",
    "let df= df.clone().lazy();\n",
    "\n",
    "\n",
    "\n",
    "let x = df.clone().select([col(\"*\").exclude([\"risco\"])])\n",
    "    .with_columns([\n",
    "        col(\"historia\").cast(DataType::Categorical(None,CategoricalOrdering::Physical)).to_physical(),\n",
    "        col(\"divida\").cast(DataType::Categorical(None,CategoricalOrdering::Physical)).to_physical(),\n",
    "        col(\"garantias\").cast(DataType::Categorical(None,CategoricalOrdering::Physical)).to_physical(),\n",
    "        col(\"renda\").cast(DataType::Categorical(None,CategoricalOrdering::Physical)).to_physical()     \n",
    "    ])\n",
    "    .drop_nulls(None).collect();\n",
    "println!(\"DataFrame {:?}\",x);\n",
    "\n",
    "\n",
    "let y = df.clone()\n",
    "    .select([col(\"risco\")])\n",
    "    .drop_nulls(None)\n",
    "    .collect();\n",
    "\n",
    "let y = y?.column(\"risco\")?.clone();\n",
    "\n",
    "\n",
    "{\n",
    "\n",
    "let ndarray_x = x?.clone().to_ndarray::<Float32Type>(IndexOrder::C).unwrap();\n",
    "\n",
    "let ndarray_y:Vec<String> =   y.str()?.\n",
    "                                    into_iter().\n",
    "                                    filter_map(|opt_str| opt_str.map(|s| s.to_string()))\n",
    "                                    .collect();\n",
    "    \n",
    "let ds = Dataset::new(ndarray_x, ndarray_y.into());\n",
    "    \n",
    "    {\n",
    "        let (train, test) = ds.split_with_ratio(1.);\n",
    "        \n",
    "        let unchecked_params = GaussianNbParams::new()\n",
    "        .var_smoothing(1e-5);\n",
    "\n",
    "        let model = unchecked_params.fit(&train);\n",
    "        \n",
    "         let model_safe = match model {\n",
    "            Ok(model) => model,\n",
    "            Err(error) => {\n",
    "                // panic, or you may also want to handle it in other ways\n",
    "                panic!(\"Problem fitting the model: {:?}\", error);\n",
    "            }\n",
    "        };\n",
    "\n",
    "        \n",
    "        //historia boa 0, divida alta 0. garantias nenhuma 1, renda > 35 2\n",
    "        //historia ruim 2, divida alta 0, garantias adequada 0, remda < 15 0\n",
    "        let test_values = array![[0.0,0.0,1.0,2.0],[2.0,0.0,0.0,0.0]];\n",
    "        \n",
    "        let predictions = model_safe.predict(&test_values);\n",
    "        \n",
    "        // let cm = predictions.confusion_matrix(&test).unwrap();\n",
    "\n",
    "        // println!(\"Confusion Matrix \");\n",
    "        println!(\"{:?}\", predictions);\n",
    "        // println!(\"{:?}\", cm);\n",
    "\n",
    "\n",
    "        \n",
    "    }\n",
    "}"
   ]
  },
  {
   "cell_type": "code",
   "execution_count": null,
   "id": "931e824d-7303-4f9e-95d3-6c0867839461",
   "metadata": {},
   "outputs": [],
   "source": []
  }
 ],
 "metadata": {
  "kernelspec": {
   "display_name": "Rust",
   "language": "rust",
   "name": "rust"
  },
  "language_info": {
   "codemirror_mode": "rust",
   "file_extension": ".rs",
   "mimetype": "text/rust",
   "name": "Rust",
   "pygment_lexer": "rust",
   "version": ""
  }
 },
 "nbformat": 4,
 "nbformat_minor": 5
}
